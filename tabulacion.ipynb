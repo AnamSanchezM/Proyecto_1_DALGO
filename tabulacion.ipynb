{
 "cells": [
  {
   "cell_type": "code",
   "execution_count": 54,
   "metadata": {},
   "outputs": [],
   "source": [
    "import math as m\n"
   ]
  },
  {
   "cell_type": "code",
   "execution_count": 55,
   "metadata": {},
   "outputs": [],
   "source": [
    "matriz = [\n",
    "    [0, 9, 1, 10, 0],\n",
    "    [-1, -1, 5, -1, 5],\n",
    "    [1, 5, 1, 5, 7],\n",
    "    [5, 5, 5, 15, 2],\n",
    "    [55, 3, 0, 4, 1]\n",
    "]\n",
    "\n",
    "X = (0,0)\n",
    "Y = (0, 4)\n",
    "Z =(4, 2)"
   ]
  },
  {
   "cell_type": "code",
   "execution_count": 56,
   "metadata": {},
   "outputs": [],
   "source": [
    "def get_sum(triple):\n",
    "    if triple == [-m.inf, -m.inf, -m.inf]:\n",
    "        return -m.inf\n",
    "    sum = 0\n",
    "    for i in range(len(triple)):\n",
    "        if triple[i] != -m.inf:\n",
    "            sum+= triple[i]\n",
    "    return sum\n",
    "        \n",
    "def print_matrix(matrix): \n",
    "    for i in range(len(matrix)):\n",
    "        print(matrix[i])\n",
    "\n",
    "\n",
    "def reliquias(Board):\n",
    "    i_lenght = len(Board)\n",
    "    j_length = len(Board[0])\n",
    "    dp_matrix = [[[-m.inf, -m.inf, -m.inf] for j in range(j_length)] for i in range(i_lenght)]\n",
    "    dp_matrix[len(Board)-1][len(Board[0])//2] = [-m.inf, -m.inf, Board[len(Board)-1][len(Board[0])//2]]\n",
    "    dp_matrix[0][0] = [Board[0][0], -m.inf, -m.inf]\n",
    "    dp_matrix[0][len(Board[0])-1] = [-m.inf, Board[0][len(Board[0])-1], -m.inf]\n",
    "    # bottom_half\n",
    "    for i in range(len(Board)//2+1):\n",
    "        row = len(Board)-1-i\n",
    "        for column in range(len(Board[0])):\n",
    "            points_board = Board[row][column]\n",
    "            if points_board == -1:\n",
    "                points_board = -m.inf\n",
    "            if not row+1>len(Board)-1:\n",
    "                down = dp_matrix[row+1][column]\n",
    "                if not column-1<0:\n",
    "                    left = dp_matrix[row+1][column-1]\n",
    "                else:\n",
    "                    left =[-m.inf, -m.inf, -m.inf]\n",
    "                if not column+1>len(Board[0])-1:\n",
    "                    right = dp_matrix[row+1][column+1]\n",
    "                else:\n",
    "                    right =[-m.inf, -m.inf, -m.inf]\n",
    "            else:\n",
    "                down = [-m.inf, -m.inf, -m.inf]\n",
    "                left =[-m.inf, -m.inf, -m.inf]\n",
    "                right =[-m.inf, -m.inf, -m.inf]\n",
    "            current_total = get_sum(dp_matrix[row][column])\n",
    "            left_total = get_sum(left)+(current_total if current_total != -m.inf else 0)\n",
    "            right_total = get_sum(right)+(current_total if current_total != -m.inf else 0)\n",
    "            down_total = get_sum(down)+(current_total if current_total != -m.inf else 0)\n",
    "            if current_total != -m.inf or row == len(Board)//2:\n",
    "                points_board = 0\n",
    "            max_points = max(left_total, right_total, down_total, current_total)\n",
    "            if max_points == left_total:\n",
    "                dp_matrix[row][column] = [left[0],left[1],left[2]+points_board]\n",
    "            elif max_points == right_total:\n",
    "                dp_matrix[row][column] = [right[0],right[1],right[2]+points_board]\n",
    "            elif max_points == down_total:\n",
    "                dp_matrix[row][column] = [down[0],down[1],down[2]+points_board]\n",
    "            elif max_points == current_total:\n",
    "                dp_matrix[row][column] = dp_matrix[row][column]\n",
    "            else:\n",
    "                print(\"No va a pasar en teoria\")\n",
    "    # upper_half\n",
    "    for i in range(len(Board)//2+1):\n",
    "        row = i\n",
    "        for column in range(len(Board[0])):\n",
    "            points_board = Board[row][column]\n",
    "            if points_board == -1:\n",
    "                points_board = -m.inf\n",
    "            if row-1>=0:\n",
    "                up = dp_matrix[row-1][column]\n",
    "                if column-1>=0:\n",
    "                    left = dp_matrix[row-1][column-1]\n",
    "                else:\n",
    "                    left =[-m.inf, -m.inf, -m.inf]\n",
    "                if column+1<=len(Board[0])-1:\n",
    "                    right = dp_matrix[row-1][column+1]\n",
    "                else:\n",
    "                    right =[-m.inf, -m.inf, -m.inf]\n",
    "            else:\n",
    "                up = [-m.inf, -m.inf, -m.inf]\n",
    "                left =[-m.inf, -m.inf, -m.inf]\n",
    "                right =[-m.inf, -m.inf, -m.inf]\n",
    "            current_total = get_sum(dp_matrix[row][column])\n",
    "            left_total = get_sum(left)+(current_total if current_total != -m.inf else 0)\n",
    "            right_total = get_sum(right)+(current_total if current_total != -m.inf else 0)\n",
    "            up_total = get_sum(up)+(current_total if current_total != -m.inf else 0)\n",
    "            if current_total != -m.inf or row == len(Board)//2:\n",
    "                points_board = 0\n",
    "            max_points = max(left_total, right_total, up_total, current_total)\n",
    "            if max_points == left_total:\n",
    "                dp_matrix[row][column] = [left[0]+points_board,left[1]+points_board,dp_matrix[row][column][2]]\n",
    "            elif max_points == right_total:\n",
    "                dp_matrix[row][column] = [right[0]+points_board,right[1]+points_board,dp_matrix[row][column][2]]\n",
    "            elif max_points == up_total:\n",
    "                dp_matrix[row][column] = [up[0]+points_board,up[1]+points_board,dp_matrix[row][column][2]]\n",
    "            elif max_points == current_total:\n",
    "                dp_matrix[row][column] = dp_matrix[row][column]\n",
    "            else:\n",
    "                print(\"No va a pasar en teoria\")\n",
    "    return dp_matrix\n",
    "result_matrix = reliquias(matriz)\n",
    "result_row = result_matrix[len(matriz)//2]"
   ]
  },
  {
   "cell_type": "code",
   "execution_count": 57,
   "metadata": {},
   "outputs": [
    {
     "name": "stdout",
     "output_type": "stream",
     "text": [
      "[[0, -inf, -inf], [-inf, -inf, -inf], [-inf, -inf, -inf], [-inf, -inf, -inf], [-inf, 0, -inf]]\n",
      "[[-inf, -inf, -inf], [-inf, -inf, -inf], [-inf, -inf, -inf], [-inf, -inf, -inf], [-inf, 5, -inf]]\n",
      "[[-inf, -inf, 5], [-inf, -inf, 5], [-inf, -inf, 15], [-inf, 5, 15], [-inf, 5, 15]]\n",
      "[[-inf, -inf, -inf], [-inf, -inf, 5], [-inf, -inf, 5], [-inf, -inf, 15], [-inf, -inf, -inf]]\n",
      "[[-inf, -inf, -inf], [-inf, -inf, -inf], [-inf, -inf, 0], [-inf, -inf, -inf], [-inf, -inf, -inf]]\n"
     ]
    }
   ],
   "source": [
    "print_matrix(result_matrix)"
   ]
  },
  {
   "cell_type": "code",
   "execution_count": 58,
   "metadata": {},
   "outputs": [
    {
     "data": {
      "text/plain": [
       "[[0, 9, 1, 10, 0],\n",
       " [-1, -1, 5, -1, 5],\n",
       " [1, 5, 1, 5, 7],\n",
       " [5, 5, 5, 15, 2],\n",
       " [55, 3, 0, 4, 1]]"
      ]
     },
     "execution_count": 58,
     "metadata": {},
     "output_type": "execute_result"
    }
   ],
   "source": [
    "matriz"
   ]
  },
  {
   "cell_type": "code",
   "execution_count": 59,
   "metadata": {},
   "outputs": [
    {
     "name": "stdout",
     "output_type": "stream",
     "text": [
      "20\n"
     ]
    }
   ],
   "source": [
    "max_x = 0\n",
    "max_y = 0\n",
    "max_z = 0\n",
    "\n",
    "for element in result_row:\n",
    "    if element[0]>max_x:\n",
    "        max_x = element[0]\n",
    "    if element[1]>max_y:\n",
    "        max_y = element[1]\n",
    "    if element[2]>max_z:\n",
    "        max_z = element[2]\n",
    "\n",
    "print(max_x+max_y+max_z)"
   ]
  }
 ],
 "metadata": {
  "kernelspec": {
   "display_name": "Python 3",
   "language": "python",
   "name": "python3"
  },
  "language_info": {
   "codemirror_mode": {
    "name": "ipython",
    "version": 3
   },
   "file_extension": ".py",
   "mimetype": "text/x-python",
   "name": "python",
   "nbconvert_exporter": "python",
   "pygments_lexer": "ipython3",
   "version": "3.11.9"
  }
 },
 "nbformat": 4,
 "nbformat_minor": 2
}
